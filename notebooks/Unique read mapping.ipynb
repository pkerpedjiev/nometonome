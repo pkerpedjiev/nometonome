{
 "cells": [
  {
   "cell_type": "code",
   "execution_count": 26,
   "metadata": {
    "collapsed": true
   },
   "outputs": [],
   "source": [
    "%matplotlib inline\n",
    "import matplotlib.pyplot as plt"
   ]
  },
  {
   "cell_type": "code",
   "execution_count": 36,
   "metadata": {
    "collapsed": true
   },
   "outputs": [],
   "source": [
    "import os.path as op\n",
    "import pandas as pd"
   ]
  },
  {
   "cell_type": "code",
   "execution_count": 28,
   "metadata": {
    "collapsed": false
   },
   "outputs": [],
   "source": [
    "alignment_profile = pd.read_table('../data/read_length_vs_number_aligned.tsv', \n",
    "                    delimiter=' ', \n",
    "                    names=['read_length', 'num_aligned'])"
   ]
  },
  {
   "cell_type": "code",
   "execution_count": 29,
   "metadata": {
    "collapsed": false
   },
   "outputs": [
    {
     "name": "stdout",
     "output_type": "stream",
     "text": [
      "['seaborn-deep', 'fivethirtyeight', 'seaborn-paper', 'seaborn-white', 'seaborn-pastel', 'seaborn-darkgrid', 'seaborn-ticks', 'classic', 'bmh', 'seaborn-dark', 'dark_background', 'seaborn-bright', 'seaborn-talk', 'seaborn-notebook', 'seaborn-whitegrid', 'seaborn-dark-palette', 'grayscale', 'ggplot', 'seaborn-colorblind', 'seaborn-poster', 'seaborn-muted']\n"
     ]
    }
   ],
   "source": [
    "print(plt.style.available)"
   ]
  },
  {
   "cell_type": "code",
   "execution_count": 40,
   "metadata": {
    "collapsed": false
   },
   "outputs": [],
   "source": [
    "import matplotlib as mpl\n",
    "\n",
    "font = {'family' : 'serif',\n",
    "        'serif': 'Palatino',\n",
    "        'size'   : 11}\n",
    "\n",
    "mpl.rc('font', **font)\n",
    "mpl.rcParams['figure.figsize'] = (3.9,3.0)\n",
    "mpl.rcParams['lines.linewidth'] = 2\n",
    "mpl.rcParams['mathtext.fontset'] = 'stix'\n",
    "mpl.rcParams['font.family'] = 'STIXGeneral'"
   ]
  },
  {
   "cell_type": "code",
   "execution_count": 43,
   "metadata": {
    "collapsed": false
   },
   "outputs": [
    {
     "data": {
      "image/png": "[encoded data removed]",
      "text/plain": [
       "<matplotlib.figure.Figure at 0x10a7e4d30>"
      ]
     },
     "metadata": {},
     "output_type": "display_data"
    }
   ],
   "source": [
    "fig, ax = plt.subplots()\n",
    "\n",
    "plt.tick_params(axis='x', which='both', top='off')\n",
    "plt.tick_params(axis='y', which='both', right='off')\n",
    "plt.rc(\"text\", usetex=True)\n",
    "\n",
    "ax.plot(alignment_profile['read_length'], alignment_profile['num_aligned'] / 1000000)\n",
    "ax.set_xlabel(\"Read length\", fontsize=14)\n",
    "ax.set_ylabel(\"Fraction uniquely mapped\", fontsize=14, labelpad=10)\n",
    "ax.set_title(\"Fraction of uniquely mapped reads in hg19\", fontsize=15, y=1.087)\n",
    "\n",
    "for tick in ax.xaxis.get_major_ticks():\n",
    "    tick.label.set_fontsize(13) \n",
    "    # specify integer or one of preset strings, e.g.\n",
    "    #tick.label.set_fontsize('x-small') \n",
    "    #tick.label.set_rotation('vertical')\n",
    "    \n",
    "for tick in ax.yaxis.get_major_ticks():\n",
    "    tick.label.set_fontsize(13) \n",
    "    # specify integer or one of preset strings, e.g.\n",
    "    #tick.label.set_fontsize('x-small') \n",
    "    #tick.label.set_rotation('vertical')\n",
    "\n",
    "ax.spines['right'].set_visible(False)\n",
    "ax.spines['top'].set_visible(False)\n",
    "\n",
    "plt.savefig(op.expanduser('~/Downloads/read_length_vs_number_aligned.pdf'), \n",
    "            bbox_inches=\"tight\")"
   ]
  },
  {
   "cell_type": "code",
   "execution_count": null,
   "metadata": {
    "collapsed": true
   },
   "outputs": [],
   "source": []
  },
  {
   "cell_type": "code",
   "execution_count": null,
   "metadata": {
    "collapsed": true
   },
   "outputs": [],
   "source": []
  }
 ],
 "metadata": {
  "kernelspec": {
   "display_name": "Python 3",
   "language": "python",
   "name": "python3"
  },
  "language_info": {
   "codemirror_mode": {
    "name": "ipython",
    "version": 3
   },
   "file_extension": ".py",
   "mimetype": "text/x-python",
   "name": "python",
   "nbconvert_exporter": "python",
   "pygments_lexer": "ipython3",
   "version": "3.5.1"
  }
 },
 "nbformat": 4,
 "nbformat_minor": 1
}
